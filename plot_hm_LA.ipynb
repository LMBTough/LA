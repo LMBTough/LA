{
 "cells": [
  {
   "cell_type": "code",
   "execution_count": null,
   "id": "8960e36e-05cf-420b-b799-add85a4ae5d2",
   "metadata": {},
   "outputs": [],
   "source": [
    "import torch\n",
    "import numpy as np\n",
    "import torch\n",
    "import torch.nn as nn\n",
    "from torchvision import transforms,models\n",
    "import random\n",
    "import json\n",
    "import matplotlib.pyplot as plt\n",
    "\n",
    "class_idx = json.load(open(\"imagenet_class_index.json\"))\n",
    "class_names = [class_idx[str(k)][1] for k in range(len(class_idx))]\n",
    "\n",
    "device = torch.device(\"cuda\" if torch.cuda.is_available() else \"cpu\")\n",
    "\n",
    "def setup_seed(seed):\n",
    "     torch.manual_seed(seed)\n",
    "     torch.cuda.manual_seed_all(seed)\n",
    "     random.seed(seed)\n",
    "     torch.backends.cudnn.deterministic = True\n",
    "\n",
    "setup_seed(3407)"
   ]
  },
  {
   "cell_type": "code",
   "execution_count": null,
   "id": "082b86bd",
   "metadata": {},
   "outputs": [],
   "source": [
    "img_label_batch = np.load(\"img_label_batch_10.npz\")"
   ]
  },
  {
   "cell_type": "code",
   "execution_count": null,
   "id": "4485cc6d",
   "metadata": {},
   "outputs": [],
   "source": [
    "model = models.inception_v3(pretrained=True)\n",
    "model.eval()\n",
    "mean = [0.485, 0.456, 0.406]\n",
    "std = [0.229, 0.224, 0.225]\n",
    "norm_layer = transforms.Normalize(mean, std)\n",
    "sfmx = nn.Softmax(dim=-1)\n",
    "model = nn.Sequential(norm_layer, model, sfmx).to(device)"
   ]
  },
  {
   "cell_type": "code",
   "execution_count": null,
   "id": "95983898",
   "metadata": {},
   "outputs": [],
   "source": [
    "percentile = 80\n",
    "upperbound = 99\n",
    "# input\n",
    "def plot_img(plt, img,ex):\n",
    "    pred = model(img.to(device)).argmax(-1).item()\n",
    "    img = img.squeeze().cpu().numpy()\n",
    "    plt.title(\"Pred:{}\".format(class_names[pred]))\n",
    "    ex = np.transpose(img, (1,2,0))\n",
    "    plt.imshow(ex)\n",
    "    return plt\n",
    "\n",
    "# heatmap\n",
    "def plot_hm(plt, img, ex):\n",
    "    plt.title(\"Heatmap\")\n",
    "    ex = np.mean(ex, axis=0)\n",
    "    q = np.percentile(ex, percentile)\n",
    "    u = np.percentile(ex, upperbound)\n",
    "    # q=0\n",
    "    ex[ex<q] = q\n",
    "    ex[ex>u] = u\n",
    "    ex = (ex-q)/(u-q+1e-8)\n",
    "    plt.imshow(ex, cmap='gray')\n",
    "\n",
    "# input * heatmap\n",
    "def plot_hm_img(plt, img, ex):\n",
    "    # pred, img, ex = example\n",
    "    plt.title(\"Input * heatmap\")\n",
    "    ex = np.expand_dims(np.mean(ex, axis=0), axis=0)\n",
    "    q = np.percentile(ex, percentile)\n",
    "    u = np.percentile(ex, upperbound)\n",
    "    # q=0\n",
    "    ex[ex<q] = q\n",
    "    ex[ex>u] = u\n",
    "    ex = (ex-q)/(u-q)\n",
    "    ex = np.transpose(ex, (1,2,0))\n",
    "    img = np.transpose(img, (1,2,0))\n",
    "\n",
    "    img = img * ex\n",
    "    plt.imshow(img)\n",
    "    \n",
    "def return_hm(ex):\n",
    "    ex = np.mean(ex, axis=0)\n",
    "    q = np.percentile(ex, percentile)\n",
    "    u = np.percentile(ex, upperbound)\n",
    "    # q=0\n",
    "    ex[ex<q] = q\n",
    "    ex[ex>u] = u\n",
    "    ex = (ex-q)/(u-q+1e-8)\n",
    "    return ex\n",
    "\n",
    "def return_hm_img(img, ex):\n",
    "    ex = np.expand_dims(np.mean(ex, axis=0), axis=0)\n",
    "    q = np.percentile(ex, percentile)\n",
    "    u = np.percentile(ex, upperbound)\n",
    "    # q=0\n",
    "    ex[ex<q] = q\n",
    "    ex[ex>u] = u\n",
    "    ex = (ex-q)/(u-q)\n",
    "    ex = np.transpose(ex, (1,2,0))\n",
    "    img = np.transpose(img, (1,2,0))\n",
    "\n",
    "    img = img * ex\n",
    "    return img"
   ]
  },
  {
   "cell_type": "code",
   "execution_count": null,
   "id": "513d39f2",
   "metadata": {},
   "outputs": [],
   "source": [
    "img_batch = torch.from_numpy(img_label_batch['img_batch']).float().to(device)\n",
    "label_batch = torch.from_numpy(img_label_batch['label_batch']).long().to(device)"
   ]
  },
  {
   "cell_type": "code",
   "execution_count": null,
   "id": "b66d6262",
   "metadata": {},
   "outputs": [],
   "source": [
    "from saliency.la import la"
   ]
  },
  {
   "cell_type": "code",
   "execution_count": null,
   "id": "9cc530f1",
   "metadata": {},
   "outputs": [],
   "source": [
    "attribution = la(model, img_batch, label_batch)"
   ]
  },
  {
   "cell_type": "code",
   "execution_count": null,
   "id": "b5740c13",
   "metadata": {},
   "outputs": [],
   "source": [
    "IDX = 0"
   ]
  },
  {
   "cell_type": "code",
   "execution_count": null,
   "id": "10f138ff",
   "metadata": {},
   "outputs": [],
   "source": [
    "la_attr = attribution[IDX]\n",
    "img = img_batch[IDX]\n",
    "\n",
    "hm_la = return_hm(la_attr)\n",
    "fig,axes = plt.subplots(1, 2, figsize=(10, 5))\n",
    "axes[0].imshow(np.transpose(img.cpu().numpy(), (1, 2, 0)))\n",
    "axes[0].axis('off')\n",
    "axes[0].set_title(\"Input Image\")\n",
    "axes[1].imshow(hm_la, cmap='gray')\n",
    "axes[1].axis('off')\n",
    "axes[1].set_title(\"LA Heatmap\")\n",
    "plt.tight_layout()\n",
    "plt.show()"
   ]
  },
  {
   "cell_type": "code",
   "execution_count": null,
   "id": "edc55d6f",
   "metadata": {},
   "outputs": [],
   "source": []
  }
 ],
 "metadata": {
  "kernelspec": {
   "display_name": "Python 3.11.0 64-bit",
   "language": "python",
   "name": "python3"
  },
  "language_info": {
   "codemirror_mode": {
    "name": "ipython",
    "version": 3
   },
   "file_extension": ".py",
   "mimetype": "text/x-python",
   "name": "python",
   "nbconvert_exporter": "python",
   "pygments_lexer": "ipython3",
   "version": "3.11.0"
  },
  "vscode": {
   "interpreter": {
    "hash": "c261aea317cc0286b3b3261fbba9abdec21eaa57589985bb7a274bf54d6cc0a7"
   }
  }
 },
 "nbformat": 4,
 "nbformat_minor": 5
}
